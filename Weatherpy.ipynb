{
 "cells": [
  {
   "cell_type": "code",
   "execution_count": null,
   "id": "558f6c1a",
   "metadata": {},
   "outputs": [],
   "source": [
    "#dependencies and setup\n",
    "import matplotlib.pyplot as plt\n",
    "import pandas as pd\n",
    "import numpy as np\n",
    "import requests\n",
    "import time\n",
    "from scipy.stats import linregress\n",
    "\n",
    "#import API key\n",
    "from api_keys import weather_api_key\n",
    "\n",
    "#incorporate citipy to determine city based on latitude and longitude\n",
    "from citipy import citipy\n",
    "\n",
    "#output file\n",
    "output_data_file = \"output_data/cities.csv\"\n",
    "\n",
    "#range of latitudes and longitudes\n",
    "lat_range = (-90, 90)\n",
    "lng_range = (-180, 180)"
   ]
  },
  {
   "cell_type": "code",
   "execution_count": null,
   "id": "12e86582",
   "metadata": {},
   "outputs": [],
   "source": [
    "#list for holding lat and long and cities\n",
    "lat_lngs = []\n",
    "cities = []\n",
    "\n",
    "#create a set of random lat and lng combinations\n",
    "lats = np.random.uniform(lat_range[0], lat_range[1], size = 1500)\n",
    "lngs = np.random.uniform(lng_range[0], lng_range[1], size = 1500)\n",
    "lat_lngs = zip(lats, lngs)\n",
    "\n",
    "#identify the nearest city for each lat, lng combination\n",
    "for lat_lng in lat_lngs:\n",
    "    city = citipy.nearest_city(lat_lng[0], lat_lng[1]).city_name\n",
    "    \n",
    "    #if the city is unique, then add it to cities list\n",
    "    if city not in cities:\n",
    "        cities.append(city)\n",
    "        \n",
    "#print the city count\n",
    "len(cities)"
   ]
  },
  {
   "cell_type": "code",
   "execution_count": null,
   "id": "f2ba23f6",
   "metadata": {},
   "outputs": [],
   "source": []
  }
 ],
 "metadata": {
  "kernelspec": {
   "display_name": "Python 3 (ipykernel)",
   "language": "python",
   "name": "python3"
  },
  "language_info": {
   "codemirror_mode": {
    "name": "ipython",
    "version": 3
   },
   "file_extension": ".py",
   "mimetype": "text/x-python",
   "name": "python",
   "nbconvert_exporter": "python",
   "pygments_lexer": "ipython3",
   "version": "3.8.12"
  }
 },
 "nbformat": 4,
 "nbformat_minor": 5
}
